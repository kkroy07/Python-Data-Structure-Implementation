{
 "cells": [
  {
   "cell_type": "code",
   "execution_count": 2,
   "id": "5287cb5c",
   "metadata": {},
   "outputs": [],
   "source": [
    "def get_hash1(key):\n",
    "    h = 0\n",
    "    for char in key:\n",
    "        h+=ord(char)\n",
    "        print(h)\n",
    "    print(h)\n",
    "    return h % 100"
   ]
  },
  {
   "cell_type": "code",
   "execution_count": 3,
   "id": "c3966c65",
   "metadata": {},
   "outputs": [
    {
     "name": "stdout",
     "output_type": "stream",
     "text": [
      "109\n",
      "206\n",
      "320\n",
      "352\n",
      "406\n",
      "406\n"
     ]
    },
    {
     "data": {
      "text/plain": [
       "6"
      ]
     },
     "execution_count": 3,
     "metadata": {},
     "output_type": "execute_result"
    }
   ],
   "source": [
    "get_hash1('mar 6')"
   ]
  },
  {
   "cell_type": "code",
   "execution_count": 4,
   "id": "874b606a",
   "metadata": {},
   "outputs": [],
   "source": [
    "# Create a HashTable\n",
    "class HashTable:\n",
    "    def __init__(self):\n",
    "        self.MAX = 100\n",
    "        self.arr = [None for i in range(self.MAX)]\n",
    "    \n",
    "    def get_hash(self,key):\n",
    "        h = 0\n",
    "        for char in key:\n",
    "            h += ord(char)\n",
    "        return h % self.MAX\n",
    "    def add(self,key,val):\n",
    "        k = self.get_hash(key)\n",
    "        self.arr[k] = val\n",
    "    \n",
    "    def getval(self,key):\n",
    "        k = self.get_hash(key)\n",
    "        return self.arr[k]\n",
    "        "
   ]
  },
  {
   "cell_type": "code",
   "execution_count": 5,
   "id": "0f9ec395",
   "metadata": {},
   "outputs": [
    {
     "data": {
      "text/plain": [
       "99"
      ]
     },
     "execution_count": 5,
     "metadata": {},
     "output_type": "execute_result"
    }
   ],
   "source": [
    "t = HashTable()\n",
    "t.get_hash('Kundan Kumar Roy')"
   ]
  },
  {
   "cell_type": "code",
   "execution_count": 6,
   "id": "27d42ac2",
   "metadata": {},
   "outputs": [],
   "source": [
    "t.add('Kundan Kumar Roy',7001398133)"
   ]
  },
  {
   "cell_type": "code",
   "execution_count": 7,
   "id": "864b424c",
   "metadata": {},
   "outputs": [
    {
     "data": {
      "text/plain": [
       "7001398133"
      ]
     },
     "execution_count": 7,
     "metadata": {},
     "output_type": "execute_result"
    }
   ],
   "source": [
    "t.getval('Kundan Kumar Roy')"
   ]
  },
  {
   "cell_type": "code",
   "execution_count": null,
   "id": "42474751",
   "metadata": {},
   "outputs": [],
   "source": [
    "#Create a Phone directory\n",
    "print(\"Enter the name and number for your directory\")\n",
    "option = True\n",
    "phn = HashTable()\n",
    "while option:\n",
    "    name = input(\"Enter name here \\n\")\n",
    "    key = phn.get_hash(name)\n",
    "    number = input(\"Enter your number here \\n\")\n",
    "    phn.add(number)\n",
    "    cont = input(\"Enter y for adding more or Enter e for exist\\n\")\n",
    "    if cont == 'y':\n",
    "        option = True\n",
    "    elif cont == 'e':\n",
    "        cont = False\n",
    "    \n",
    "    "
   ]
  },
  {
   "cell_type": "code",
   "execution_count": null,
   "id": "89e0c948",
   "metadata": {},
   "outputs": [],
   "source": []
  },
  {
   "cell_type": "code",
   "execution_count": null,
   "id": "27ff06dd",
   "metadata": {},
   "outputs": [],
   "source": []
  }
 ],
 "metadata": {
  "kernelspec": {
   "display_name": "Python 3 (ipykernel)",
   "language": "python",
   "name": "python3"
  },
  "language_info": {
   "codemirror_mode": {
    "name": "ipython",
    "version": 3
   },
   "file_extension": ".py",
   "mimetype": "text/x-python",
   "name": "python",
   "nbconvert_exporter": "python",
   "pygments_lexer": "ipython3",
   "version": "3.9.12"
  }
 },
 "nbformat": 4,
 "nbformat_minor": 5
}
