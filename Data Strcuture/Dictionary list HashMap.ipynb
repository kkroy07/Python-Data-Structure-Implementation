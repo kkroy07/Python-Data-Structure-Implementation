{
 "cells": [
  {
   "cell_type": "code",
   "execution_count": 15,
   "id": "cd08919c",
   "metadata": {},
   "outputs": [
    {
     "name": "stdout",
     "output_type": "stream",
     "text": [
      "[['6-Mar', 23.0], ['7-Mar', 24.0], ['8-Mar', 24.0], ['9-Mar', 34.0], ['10-Mar', 45.0], ['11-Mar', 6.0], ['12-Mar', 46.0], ['13-Mar', 45.0], ['14-Mar', 6.0], ['15-Mar', 46.0], ['16-Mar', 46.0], ['17-Mar', 46.0], ['18-Mar', 46.0]]\n"
     ]
    }
   ],
   "source": [
    "stocks=[]\n",
    "with open('stock.csv') as f:\n",
    "    for line in f:\n",
    "        tokens = line.split(',')\n",
    "        days  = tokens[0]\n",
    "        stock  = float(tokens[1])\n",
    "        stocks.append([days,stock])\n",
    "    print(stocks)"
   ]
  },
  {
   "cell_type": "code",
   "execution_count": 16,
   "id": "3b294f90",
   "metadata": {},
   "outputs": [
    {
     "name": "stdout",
     "output_type": "stream",
     "text": [
      "46.0\n"
     ]
    }
   ],
   "source": [
    "# find stock prices on the date 17-Mar\n",
    "# Taking O(n) timing as list is linear search\n",
    "for s in stocks:\n",
    "    if s[0] == '17-Mar':\n",
    "        print(s[1])"
   ]
  },
  {
   "cell_type": "code",
   "execution_count": 17,
   "id": "f4a63be5",
   "metadata": {},
   "outputs": [
    {
     "name": "stdout",
     "output_type": "stream",
     "text": [
      "{'6-Mar': 23.0, '7-Mar': 24.0, '8-Mar': 24.0, '9-Mar': 34.0, '10-Mar': 45.0, '11-Mar': 6.0, '12-Mar': 46.0, '13-Mar': 45.0, '14-Mar': 6.0, '15-Mar': 46.0, '16-Mar': 46.0, '17-Mar': 46.0, '18-Mar': 46.0}\n"
     ]
    }
   ],
   "source": [
    "stocks={}\n",
    "with open('stock.csv') as f:\n",
    "    for line in f:\n",
    "        tokens = line.split(',')\n",
    "        days  = tokens[0]\n",
    "        price  = float(tokens[1])\n",
    "        stocks[days] = price\n",
    "    print(stocks)"
   ]
  },
  {
   "cell_type": "code",
   "execution_count": 18,
   "id": "f0778fc1",
   "metadata": {},
   "outputs": [
    {
     "data": {
      "text/plain": [
       "46.0"
      ]
     },
     "execution_count": 18,
     "metadata": {},
     "output_type": "execute_result"
    }
   ],
   "source": [
    "# Find the price on 17-Mar\n",
    "#O(1) search operations\n",
    "stocks['17-Mar']"
   ]
  },
  {
   "cell_type": "code",
   "execution_count": null,
   "id": "7f48408e",
   "metadata": {},
   "outputs": [],
   "source": []
  }
 ],
 "metadata": {
  "kernelspec": {
   "display_name": "Python 3 (ipykernel)",
   "language": "python",
   "name": "python3"
  },
  "language_info": {
   "codemirror_mode": {
    "name": "ipython",
    "version": 3
   },
   "file_extension": ".py",
   "mimetype": "text/x-python",
   "name": "python",
   "nbconvert_exporter": "python",
   "pygments_lexer": "ipython3",
   "version": "3.9.12"
  }
 },
 "nbformat": 4,
 "nbformat_minor": 5
}
