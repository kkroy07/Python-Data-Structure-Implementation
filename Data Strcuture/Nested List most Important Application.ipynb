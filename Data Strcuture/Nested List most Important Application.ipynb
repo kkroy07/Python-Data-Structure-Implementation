{
 "cells": [
  {
   "cell_type": "code",
   "execution_count": null,
   "id": "f869e336",
   "metadata": {},
   "outputs": [],
   "source": [
    "MAX=10\n",
    "arr=[[] for i in range(MAX)]"
   ]
  },
  {
   "cell_type": "code",
   "execution_count": null,
   "id": "3118b902",
   "metadata": {},
   "outputs": [],
   "source": [
    "arr"
   ]
  },
  {
   "cell_type": "code",
   "execution_count": null,
   "id": "13ea8df2",
   "metadata": {},
   "outputs": [],
   "source": [
    "arr[0].append(12)"
   ]
  },
  {
   "cell_type": "code",
   "execution_count": null,
   "id": "589cd38c",
   "metadata": {},
   "outputs": [],
   "source": [
    "arr"
   ]
  },
  {
   "cell_type": "code",
   "execution_count": null,
   "id": "e628aa89",
   "metadata": {},
   "outputs": [],
   "source": []
  },
  {
   "cell_type": "code",
   "execution_count": null,
   "id": "64017d33",
   "metadata": {},
   "outputs": [],
   "source": [
    "arr[3].append((12,3124,\"kkr\"))\n",
    "print(arr[3][3][2])\n",
    "print(arr)\n"
   ]
  },
  {
   "cell_type": "code",
   "execution_count": null,
   "id": "4f53c37a",
   "metadata": {},
   "outputs": [],
   "source": [
    "arr[2][1]"
   ]
  },
  {
   "cell_type": "code",
   "execution_count": null,
   "id": "bca57f1d",
   "metadata": {},
   "outputs": [],
   "source": [
    "for idx, element in enumerate(arr[2]):\n",
    "    print(idx)\n",
    "    print(len(element))\n",
    "    "
   ]
  },
  {
   "cell_type": "code",
   "execution_count": 1,
   "id": "90c71bc2",
   "metadata": {},
   "outputs": [],
   "source": [
    "# Create a HashTable\n",
    "class HashTable:\n",
    "    def __init__(self):\n",
    "        self.MAX = 10\n",
    "        self.arr = [[] for i in range(self.MAX)]\n",
    "    \n",
    "    def get_hash(self,key):\n",
    "        h = 0\n",
    "        for char in key:\n",
    "            h += ord(char)\n",
    "        return h % self.MAX\n",
    "    def __setitem__(self,key,val):\n",
    "        h = self.get_hash(key)\n",
    "        found = False\n",
    "        print(self.arr[h])\n",
    "        for idx, element in enumerate(self.arr[h]):\n",
    "            print(element)\n",
    "            print(idx)\n",
    "            if len(element)==2 and element[0]==key:\n",
    "                print(\"Within for loop\")\n",
    "                self.arr[h][idx]=(key,val)\n",
    "                found = True\n",
    "                break\n",
    "        if not found:\n",
    "            self.arr[h].append((key,val))\n",
    "    \n",
    "    def __getitem__(self,key):\n",
    "        k = self.get_hash(key)\n",
    "        return self.arr[k]\n",
    "        "
   ]
  },
  {
   "cell_type": "code",
   "execution_count": 2,
   "id": "0f597449",
   "metadata": {},
   "outputs": [
    {
     "name": "stdout",
     "output_type": "stream",
     "text": [
      "[]\n"
     ]
    }
   ],
   "source": [
    "t=HashTable()\n",
    "t['march 6']=124\n"
   ]
  },
  {
   "cell_type": "code",
   "execution_count": 3,
   "id": "44982cbc",
   "metadata": {},
   "outputs": [
    {
     "data": {
      "text/plain": [
       "[('march 6', 124)]"
      ]
     },
     "execution_count": 3,
     "metadata": {},
     "output_type": "execute_result"
    }
   ],
   "source": [
    "t['march 6']"
   ]
  },
  {
   "cell_type": "code",
   "execution_count": 4,
   "id": "e14d0de9",
   "metadata": {},
   "outputs": [
    {
     "data": {
      "text/plain": [
       "[[], [], [], [], [], [], [], [], [], [('march 6', 124)]]"
      ]
     },
     "execution_count": 4,
     "metadata": {},
     "output_type": "execute_result"
    }
   ],
   "source": [
    "t.arr"
   ]
  },
  {
   "cell_type": "code",
   "execution_count": 5,
   "id": "5202a7e6",
   "metadata": {},
   "outputs": [
    {
     "name": "stdout",
     "output_type": "stream",
     "text": [
      "[('march 6', 124)]\n",
      "('march 6', 124)\n",
      "0\n",
      "Within for loop\n"
     ]
    }
   ],
   "source": [
    "t['march 6']=456"
   ]
  },
  {
   "cell_type": "code",
   "execution_count": 6,
   "id": "4b48c79e",
   "metadata": {},
   "outputs": [
    {
     "data": {
      "text/plain": [
       "[('march 6', 456)]"
      ]
     },
     "execution_count": 6,
     "metadata": {},
     "output_type": "execute_result"
    }
   ],
   "source": [
    "t['march 6']"
   ]
  },
  {
   "cell_type": "code",
   "execution_count": null,
   "id": "60d443c0",
   "metadata": {},
   "outputs": [],
   "source": [
    "t.arr"
   ]
  },
  {
   "cell_type": "code",
   "execution_count": null,
   "id": "fdde4694",
   "metadata": {},
   "outputs": [],
   "source": [
    "t['march 6'] = 234"
   ]
  },
  {
   "cell_type": "code",
   "execution_count": 7,
   "id": "f2f43d1b",
   "metadata": {},
   "outputs": [
    {
     "data": {
      "text/plain": [
       "[(12, 23), (34, 56), (23, 89), (78, 9)]"
      ]
     },
     "execution_count": 7,
     "metadata": {},
     "output_type": "execute_result"
    }
   ],
   "source": [
    "lst = [(12,23),(34,56),(23,89),(78,9)]\n",
    "lst\n"
   ]
  },
  {
   "cell_type": "code",
   "execution_count": 8,
   "id": "a3c7a506",
   "metadata": {},
   "outputs": [
    {
     "data": {
      "text/plain": [
       "(12, 23)"
      ]
     },
     "execution_count": 8,
     "metadata": {},
     "output_type": "execute_result"
    }
   ],
   "source": [
    "lst[0]"
   ]
  },
  {
   "cell_type": "code",
   "execution_count": 9,
   "id": "a03b6b75",
   "metadata": {},
   "outputs": [
    {
     "data": {
      "text/plain": [
       "12"
      ]
     },
     "execution_count": 9,
     "metadata": {},
     "output_type": "execute_result"
    }
   ],
   "source": [
    "lst[0][0]"
   ]
  },
  {
   "cell_type": "code",
   "execution_count": 10,
   "id": "d230ec85",
   "metadata": {},
   "outputs": [
    {
     "data": {
      "text/plain": [
       "78"
      ]
     },
     "execution_count": 10,
     "metadata": {},
     "output_type": "execute_result"
    }
   ],
   "source": [
    "lst[3][0]"
   ]
  },
  {
   "cell_type": "code",
   "execution_count": null,
   "id": "9a65acb7",
   "metadata": {},
   "outputs": [],
   "source": []
  }
 ],
 "metadata": {
  "kernelspec": {
   "display_name": "Python 3 (ipykernel)",
   "language": "python",
   "name": "python3"
  },
  "language_info": {
   "codemirror_mode": {
    "name": "ipython",
    "version": 3
   },
   "file_extension": ".py",
   "mimetype": "text/x-python",
   "name": "python",
   "nbconvert_exporter": "python",
   "pygments_lexer": "ipython3",
   "version": "3.9.12"
  }
 },
 "nbformat": 4,
 "nbformat_minor": 5
}
